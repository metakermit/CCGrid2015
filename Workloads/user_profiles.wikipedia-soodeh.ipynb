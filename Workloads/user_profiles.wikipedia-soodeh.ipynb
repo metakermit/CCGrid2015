{
 "metadata": {
  "name": "",
  "signature": "sha256:8f4edb0724605ecb8772f323c700a3a7d7659503f5fe981049560c104aa80cb8"
 },
 "nbformat": 3,
 "nbformat_minor": 0,
 "worksheets": [
  {
   "cells": [
    {
     "cell_type": "markdown",
     "metadata": {},
     "source": [
      "# Prepare and process dataset"
     ]
    },
    {
     "cell_type": "code",
     "collapsed": false,
     "input": [
      "import os\n",
      "figsize=(4.5, 2.5)\n",
      "OUT_LOC = '/home/kermit/notebook/data/user_profiles/soodeh/'\n",
      "! mkdir -p $OUT_LOC\n",
      "def loc(filepath):\n",
      "    return os.path.join(OUT_LOC, filepath)\n",
      "\n",
      "# global parameters\n",
      "aggregation_period = '80s'"
     ],
     "language": "python",
     "metadata": {},
     "outputs": []
    },
    {
     "cell_type": "markdown",
     "metadata": {},
     "source": [
      "### Parse traces (data is from the followin link)"
     ]
    },
    {
     "cell_type": "code",
     "collapsed": false,
     "input": [
      "import pandas as pd\n",
      "from datetime import datetime, timedelta"
     ],
     "language": "python",
     "metadata": {},
     "outputs": []
    },
    {
     "cell_type": "code",
     "collapsed": false,
     "input": [
      "def read_wikipedia_file(f):\n",
      "    req = pd.read_table(f, sep=' ', parse_dates=[1], header=None, names=['counter', 'time', 'url', 'rw'], index_col=['time'],\n",
      "                        date_parser=lambda s : datetime.fromtimestamp(float(s)))\n",
      "    return req\n",
      "\n",
      "f = \"/home/soodeh/baze/wikipedia/1190268937\"\n",
      "f_small = \"/home/soodeh/baze/wikipedia/1190268937_small\"\n",
      "! head -n 1000 $f > $f_small\n",
      "#! cat $f_small\n",
      "req = read_wikipedia_file(os.path.expanduser(f_small))\n",
      "req.head()"
     ],
     "language": "python",
     "metadata": {},
     "outputs": []
    },
    {
     "cell_type": "markdown",
     "metadata": {},
     "source": [
      "### Data processing functions"
     ]
    },
    {
     "cell_type": "code",
     "collapsed": false,
     "input": [
      "def set_lang(req):\n",
      "    \"\"\"add the lang column\"\"\"\n",
      "    req2 = req.ix[:, ['url']]\n",
      "    req2['lang'] = req2.url.apply(lambda s : s[7:].split('.')[0])\n",
      "    \n",
      "    return req2\n",
      "\n",
      "req = set_lang(req)\n",
      "req.head()"
     ],
     "language": "python",
     "metadata": {},
     "outputs": []
    },
    {
     "cell_type": "code",
     "collapsed": false,
     "input": [
      "def get_lang_codes(req):\n",
      "    lang_codes = [l for l in set(req.lang) if len(l) <= 3]\n",
      "    acceptable_lang_codes = []\n",
      "    for lang in lang_codes:\n",
      "        mean = req[req.lang == lang].ix[:, 0].resample('min', 'count').mean()\n",
      "        if mean > 13:# hr\n",
      "            acceptable_lang_codes.append(lang)\n",
      "            #print(lang)\n",
      "    return acceptable_lang_codes\n",
      "\n",
      "lang_codes = get_lang_codes(req)\n",
      "list(lang_codes)[:10]"
     ],
     "language": "python",
     "metadata": {},
     "outputs": []
    },
    {
     "cell_type": "code",
     "collapsed": false,
     "input": [
      "def filter_lang(req, acceptable_lang_codes):\n",
      "    req2 = req[req.lang.isin(acceptable_lang_codes)]\n",
      "    return req2\n",
      "\n",
      "req = filter_lang(req, lang_codes)\n",
      "req.head()"
     ],
     "language": "python",
     "metadata": {},
     "outputs": []
    },
    {
     "cell_type": "code",
     "collapsed": false,
     "input": [
      "def reshape_requests(req, freq):\n",
      "\n",
      "    # reshape with resampled t as rows and lang as column\n",
      "    req_reshaped = req.lang\n",
      "    req_reshaped = req_reshaped.groupby(req_reshaped).resample(freq, how='count')\n",
      "    req_reshaped = req_reshaped.unstack(level=0)\n",
      "    req_reshaped[req_reshaped.isnull()] = 0\n",
      "    return req_reshaped\n",
      "\n",
      "req_reshaped = reshape_requests(req, '1ms')\n",
      "req_reshaped.plot()"
     ],
     "language": "python",
     "metadata": {},
     "outputs": []
    },
    {
     "cell_type": "markdown",
     "metadata": {},
     "source": [
      "# Process individual files\n",
      "#### soodeh: I guessed this will process the main filese to create pickles, so I didnt run it"
     ]
    },
    {
     "cell_type": "markdown",
     "metadata": {},
     "source": [
      "Go through all the files and for each call the processing functions."
     ]
    },
    {
     "cell_type": "code",
     "collapsed": false,
     "input": [
      "import os\n",
      "\n",
      "wiki_loc = os.path.expanduser(\"/home/soodeh/baze/wikipedia/all\")\n",
      "pickle_loc = os.path.expanduser(\"/home/soodeh/baze/wikipedia/pickles\")\n",
      "lang_codes = None\n",
      "freq = '1s'\n",
      "def process_all():\n",
      "    for f in os.listdir(wiki_loc): #[:2]:\n",
      "        input_path = os.path.join(wiki_loc, f)\n",
      "        output_path = os.path.join(pickle_loc, f + '.pkl')\n",
      "        # process\n",
      "        req = read_wikipedia_file(input_path)\n",
      "        req = set_lang(req)\n",
      "        if lang_codes is None: # Get set of subdomains (only for the first time).\n",
      "            lang_codes = get_lang_codes(req)\n",
      "        req = filter_lang(req, lang_codes)\n",
      "        req = reshape_requests(req, freq)\n",
      "        req.to_pickle(output_path)\n",
      "#process_all()"
     ],
     "language": "python",
     "metadata": {},
     "outputs": []
    },
    {
     "cell_type": "markdown",
     "metadata": {},
     "source": [
      "### Concatenate pickles"
     ]
    },
    {
     "cell_type": "code",
     "collapsed": false,
     "input": [
      "req_parts = []\n",
      "pickle_loc = os.path.expanduser(\"/home/soodeh/baze/wikipedia/pickles\")\n",
      "for f in sorted(os.listdir(pickle_loc)):\n",
      "    req_parts.append(pd.read_pickle(os.path.join(pickle_loc, f)))\n",
      "req = pd.concat(req_parts)\n",
      "req.index.name = 'index'\n",
      "req.name = 'requests'\n",
      "# sum duplicate indices\n",
      "req = req.reset_index().groupby('index').sum()\n",
      "req = req.astype(int)\n",
      "req = req.sort_index()\n",
      "req.head()"
     ],
     "language": "python",
     "metadata": {},
     "outputs": []
    },
    {
     "cell_type": "code",
     "collapsed": false,
     "input": [
      "req.tail()"
     ],
     "language": "python",
     "metadata": {},
     "outputs": []
    },
    {
     "cell_type": "code",
     "collapsed": false,
     "input": [
      "int(req.sum().sum()) # -> 100 million requests"
     ],
     "language": "python",
     "metadata": {},
     "outputs": []
    },
    {
     "cell_type": "code",
     "collapsed": false,
     "input": [
      "figure(figsize=(8,5))\n",
      "req.de.plot(style='b-')\n",
      "ylabel('wikipedia requests (per second)')\n",
      "xlabel('time during 24 hours')\n",
      "savefig(loc('wikipedia_de_requests_24hours.pdf'))"
     ],
     "language": "python",
     "metadata": {},
     "outputs": [
      {
       "metadata": {},
       "output_type": "display_data",
       "png": "[encoded data removed]",
       "text": [
        "<matplotlib.figure.Figure at 0x8f17e10>"
       ]
      }
     ],
     "prompt_number": 132
    },
    {
     "cell_type": "code",
     "collapsed": false,
     "input": [
      "req.en.plot()"
     ],
     "language": "python",
     "metadata": {},
     "outputs": []
    },
    {
     "cell_type": "markdown",
     "metadata": {},
     "source": [
      "### Scaled horizentally up to 1000 sec and vertically up to 2000 requests\n",
      "\n",
      "\n",
      "Scaled per 80s"
     ]
    },
    {
     "cell_type": "code",
     "collapsed": false,
     "input": [
      "figure(figsize=(8,4))\n",
      "de_small = req.de.copy()\n",
      "de_small = de_small.resample(aggregation_period, how='sum')\n",
      "#de_small.index = pd.date_range(start='2007-09-19 03:10:48', periods=len(req.de.index), freq='s')\n",
      "de_small = (de_small / 10).astype(int)\n",
      "de_small = de_small.interpolate()\n",
      "de_small.plot(style='r-')\n",
      "ylabel('scaled wikipedia requests (per 80 second)')\n",
      "xlabel('time scaled to 1000 sec')\n",
      "savefig(loc('scaled_wikipedia_1000sec.pdf'))"
     ],
     "language": "python",
     "metadata": {},
     "outputs": [
      {
       "metadata": {},
       "output_type": "display_data",
       "png": "[encoded data removed]",
       "text": [
        "<matplotlib.figure.Figure at 0x9378350>"
       ]
      }
     ],
     "prompt_number": 131
    },
    {
     "cell_type": "code",
     "collapsed": false,
     "input": [
      "len(de_small)"
     ],
     "language": "python",
     "metadata": {},
     "outputs": [
      {
       "metadata": {},
       "output_type": "pyout",
       "prompt_number": 78,
       "text": [
        "1036"
       ]
      }
     ],
     "prompt_number": 78
    },
    {
     "cell_type": "markdown",
     "metadata": {},
     "source": [
      "# Forming the dataset to run httpmon with wikipedia website requests \n",
      "### (In German language for 24 hours)"
     ]
    },
    {
     "cell_type": "code",
     "collapsed": false,
     "input": [
      "def random_story_id():\n",
      "    return int(random.uniform(1, 6000))\n",
      "random_story_id()"
     ],
     "language": "python",
     "metadata": {},
     "outputs": [
      {
       "metadata": {},
       "output_type": "pyout",
       "prompt_number": 80,
       "text": [
        "1032"
       ]
      }
     ],
     "prompt_number": 80
    },
    {
     "cell_type": "code",
     "collapsed": false,
     "input": [
      "def create_script(req, path):\n",
      "    with open(path, 'w') as out_file:\n",
      "        output = '>> /home/soodeh/controller_Java/workloads/wikipedia/csv/wikipedia-all-outputs.csv\\n'\n",
      "        header = '#!/bin/bash\\n echo \"reportTime, min-latency(ms), lowerQuartile-latency(ms), median-latency(ms), upperQuartile-latency(ms),maximum-latency(ms),average-latency(ms),latency95(ms),latency99(ms),numRequests,numOption1,numOption2,numErrors,throughput(rps),  recommendationRate(percent),commentRate(percent),acc-numRequests,acc-numOption1,acc-numOption2, acc-min-latency(ms),acc-lowerQuartile-latency(ms),acc-median-latency(ms),acc-upperQuartile-latency(ms),acc-maximum-latency(ms), acc-average-latency(ms),acc-latency95(ms),acc-latency99(ms),acc-openQueuing, acc-numErrors\"'\n",
      "        out_file.write(header + output)\n",
      "        out_file.write(output)\n",
      "        for t, req_num in req.iteritems():#[:10]:\n",
      "            \n",
      "            \n",
      "            #base_cmd = \"/home/soodeh/controller_Java/workloads/worldcup/httpmon --url  http://192.168.122.139/PHP/ViewStory.php\"\n",
      "            #base_cmd = \"/home/soodeh/controller_Java/workloads/httpmon --url  http://192.168.122.174/PHP/ViewStory.php\"\n",
      "            #url_param = \"?storyId={}\".format(random_story_id())\n",
      "            #options = \" --concurrency 10 --thinktime 0 --count {0} --open --interval 1\"\n",
      "            #cmd = base_cmd + url_param + options + output\n",
      "            #print(cmd)\n",
      "            \n",
      "            base_cmd = \"/home/soodeh/controller_Java/workloads/httpmon_socket_ver1.5 --url  http://128.131.172.157:2222/PHP/RandomStory.php\"\n",
      "            options = \" --thinktime 0  --open --interval 10 --count {0} --concurrency 10 --timeout 2 --deterministic --dump \".format(int(req_num))\n",
      "            cmd = base_cmd + options + output\n",
      "            out_file.write(cmd)\n",
      "            \n",
      "create_script(req.de, os.path.expanduser('/home/soodeh/baze/wikipedia/soodeh-scripts/make_wikipedia_requests-sorted.sh'))\n",
      "! head /home/soodeh/baze/wikipedia/soodeh-scripts/make_wikipedia_requests-sorted.sh\n",
      "#! rm ~/baze/wikipedia/soodeh-scripts/make_requests-big.sh\n",
      "create_script(de_small, os.path.expanduser('/home/soodeh/baze/wikipedia/soodeh-scripts/make_scaled_wikipedia_requests-1000s-sorted.sh'))\n",
      "! head /home/soodeh/baze/wikipedia/soodeh-scripts/make_scaled_wikipedia_requests-1000s-sorted.sh\n",
      "#! rm ~/baze/wikipedia/soodeh-scripts/make_requests-small.sh"
     ],
     "language": "python",
     "metadata": {},
     "outputs": [
      {
       "output_type": "stream",
       "stream": "stdout",
       "text": [
        "#!/bin/bash\r\n",
        " echo \"reportTime, min-latency(ms), lowerQuartile-latency(ms), median-latency(ms), upperQuartile-latency(ms),maximum-latency(ms),average-latency(ms),latency95(ms),latency99(ms),numRequests,numOption1,numOption2,numErrors,throughput(rps),  recommendationRate(percent),commentRate(percent),acc-numRequests,acc-numOption1,acc-numOption2, acc-min-latency(ms),acc-lowerQuartile-latency(ms),acc-median-latency(ms),acc-upperQuartile-latency(ms),acc-maximum-latency(ms), acc-average-latency(ms),acc-latency95(ms),acc-latency99(ms),acc-openQueuing, acc-numErrors\">> /home/soodeh/controller_Java/workloads/wikipedia/csv/wikipedia-all-outputs.csv\r\n",
        ">> /home/soodeh/controller_Java/workloads/wikipedia/csv/wikipedia-all-outputs.csv\r\n",
        "/home/soodeh/controller_Java/workloads/httpmon_socket_ver1.5 --url  http://128.131.172.157:2222/PHP/RandomStory.php --thinktime 0  --open --interval 10 --count 98 --concurrency 10 --timeout 2 --deterministic --dump >> /home/soodeh/controller_Java/workloads/wikipedia/csv/wikipedia-all-outputs.csv\r\n",
        "/home/soodeh/controller_Java/workloads/httpmon_socket_ver1.5 --url  http://128.131.172.157:2222/PHP/RandomStory.php --thinktime 0  --open --interval 10 --count 109 --concurrency 10 --timeout 2 --deterministic --dump >> /home/soodeh/controller_Java/workloads/wikipedia/csv/wikipedia-all-outputs.csv\r\n",
        "/home/soodeh/controller_Java/workloads/httpmon_socket_ver1.5 --url  http://128.131.172.157:2222/PHP/RandomStory.php --thinktime 0  --open --interval 10 --count 145 --concurrency 10 --timeout 2 --deterministic --dump >> /home/soodeh/controller_Java/workloads/wikipedia/csv/wikipedia-all-outputs.csv\r\n",
        "/home/soodeh/controller_Java/workloads/httpmon_socket_ver1.5 --url  http://128.131.172.157:2222/PHP/RandomStory.php --thinktime 0  --open --interval 10 --count 127 --concurrency 10 --timeout 2 --deterministic --dump >> /home/soodeh/controller_Java/workloads/wikipedia/csv/wikipedia-all-outputs.csv\r\n",
        "/home/soodeh/controller_Java/workloads/httpmon_socket_ver1.5 --url  http://128.131.172.157:2222/PHP/RandomStory.php --thinktime 0  --open --interval 10 --count 135 --concurrency 10 --timeout 2 --deterministic --dump >> /home/soodeh/controller_Java/workloads/wikipedia/csv/wikipedia-all-outputs.csv\r\n",
        "/home/soodeh/controller_Java/workloads/httpmon_socket_ver1.5 --url  http://128.131.172.157:2222/PHP/RandomStory.php --thinktime 0  --open --interval 10 --count 175 --concurrency 10 --timeout 2 --deterministic --dump >> /home/soodeh/controller_Java/workloads/wikipedia/csv/wikipedia-all-outputs.csv\r\n",
        "/home/soodeh/controller_Java/workloads/httpmon_socket_ver1.5 --url  http://128.131.172.157:2222/PHP/RandomStory.php --thinktime 0  --open --interval 10 --count 150 --concurrency 10 --timeout 2 --deterministic --dump >> /home/soodeh/controller_Java/workloads/wikipedia/csv/wikipedia-all-outputs.csv\r\n"
       ]
      },
      {
       "output_type": "stream",
       "stream": "stdout",
       "text": [
        "#!/bin/bash\r\n",
        " echo \"reportTime, min-latency(ms), lowerQuartile-latency(ms), median-latency(ms), upperQuartile-latency(ms),maximum-latency(ms),average-latency(ms),latency95(ms),latency99(ms),numRequests,numOption1,numOption2,numErrors,throughput(rps),  recommendationRate(percent),commentRate(percent),acc-numRequests,acc-numOption1,acc-numOption2, acc-min-latency(ms),acc-lowerQuartile-latency(ms),acc-median-latency(ms),acc-upperQuartile-latency(ms),acc-maximum-latency(ms), acc-average-latency(ms),acc-latency95(ms),acc-latency99(ms),acc-openQueuing, acc-numErrors\">> /home/soodeh/controller_Java/workloads/wikipedia/csv/wikipedia-all-outputs.csv\r\n",
        ">> /home/soodeh/controller_Java/workloads/wikipedia/csv/wikipedia-all-outputs.csv\r\n",
        "/home/soodeh/controller_Java/workloads/httpmon_socket_ver1.5 --url  http://128.131.172.157:2222/PHP/RandomStory.php --thinktime 0  --open --interval 10 --count 1050 --concurrency 10 --timeout 2 --deterministic --dump >> /home/soodeh/controller_Java/workloads/wikipedia/csv/wikipedia-all-outputs.csv\r\n",
        "/home/soodeh/controller_Java/workloads/httpmon_socket_ver1.5 --url  http://128.131.172.157:2222/PHP/RandomStory.php --thinktime 0  --open --interval 10 --count 1085 --concurrency 10 --timeout 2 --deterministic --dump >> /home/soodeh/controller_Java/workloads/wikipedia/csv/wikipedia-all-outputs.csv\r\n",
        "/home/soodeh/controller_Java/workloads/httpmon_socket_ver1.5 --url  http://128.131.172.157:2222/PHP/RandomStory.php --thinktime 0  --open --interval 10 --count 1068 --concurrency 10 --timeout 2 --deterministic --dump >> /home/soodeh/controller_Java/workloads/wikipedia/csv/wikipedia-all-outputs.csv\r\n",
        "/home/soodeh/controller_Java/workloads/httpmon_socket_ver1.5 --url  http://128.131.172.157:2222/PHP/RandomStory.php --thinktime 0  --open --interval 10 --count 1053 --concurrency 10 --timeout 2 --deterministic --dump >> /home/soodeh/controller_Java/workloads/wikipedia/csv/wikipedia-all-outputs.csv\r\n",
        "/home/soodeh/controller_Java/workloads/httpmon_socket_ver1.5 --url  http://128.131.172.157:2222/PHP/RandomStory.php --thinktime 0  --open --interval 10 --count 1031 --concurrency 10 --timeout 2 --deterministic --dump >> /home/soodeh/controller_Java/workloads/wikipedia/csv/wikipedia-all-outputs.csv\r\n",
        "/home/soodeh/controller_Java/workloads/httpmon_socket_ver1.5 --url  http://128.131.172.157:2222/PHP/RandomStory.php --thinktime 0  --open --interval 10 --count 1061 --concurrency 10 --timeout 2 --deterministic --dump >> /home/soodeh/controller_Java/workloads/wikipedia/csv/wikipedia-all-outputs.csv\r\n",
        "/home/soodeh/controller_Java/workloads/httpmon_socket_ver1.5 --url  http://128.131.172.157:2222/PHP/RandomStory.php --thinktime 0  --open --interval 10 --count 1053 --concurrency 10 --timeout 2 --deterministic --dump >> /home/soodeh/controller_Java/workloads/wikipedia/csv/wikipedia-all-outputs.csv\r\n"
       ]
      }
     ],
     "prompt_number": 135
    },
    {
     "cell_type": "code",
     "collapsed": false,
     "input": [
      "! mkdir -p /home/soodeh/baze/wikipedia/soodeh-data/\n",
      "req.de.to_csv(os.path.expanduser('/home/soodeh/baze/wikipedia/soodeh-data/wikipedia-de-sorted.csv'))\n",
      "#! head http://snowwhite:8888/notebooks/user_profiles.worldcup-soodeh.ipynb#\n",
      "! head {'/home/soodeh/baze/wikipedia/soodeh-data/wikipedia-de-sorted.csv'}"
     ],
     "language": "python",
     "metadata": {},
     "outputs": [
      {
       "output_type": "stream",
       "stream": "stdout",
       "text": [
        "2007-09-18 22:10:43,98\r\n",
        "2007-09-18 22:10:44,109\r\n",
        "2007-09-18 22:10:45,145\r\n",
        "2007-09-18 22:10:46,127\r\n",
        "2007-09-18 22:10:47,135\r\n",
        "2007-09-18 22:10:48,175\r\n",
        "2007-09-18 22:10:49,150\r\n",
        "2007-09-18 22:10:50,132\r\n",
        "2007-09-18 22:10:51,127\r\n",
        "2007-09-18 22:10:52,98\r\n"
       ]
      }
     ],
     "prompt_number": 148
    },
    {
     "cell_type": "code",
     "collapsed": false,
     "input": [
      "de_small.to_csv(os.path.expanduser('/home/soodeh/baze/wikipedia/soodeh-data/wikipedia-de-1000s-sorted.csv'))\n",
      "! head {'/home/soodeh/baze/wikipedia/soodeh-data/wikipedia-de-1000s-sorted.csv'}"
     ],
     "language": "python",
     "metadata": {},
     "outputs": [
      {
       "output_type": "stream",
       "stream": "stdout",
       "text": [
        "2007-09-18 22:10:40,1050\r\n",
        "2007-09-18 22:12:00,1085\r\n",
        "2007-09-18 22:13:20,1068\r\n",
        "2007-09-18 22:14:40,1053\r\n",
        "2007-09-18 22:16:00,1031\r\n",
        "2007-09-18 22:17:20,1061\r\n",
        "2007-09-18 22:18:40,1053\r\n",
        "2007-09-18 22:20:00,1045\r\n",
        "2007-09-18 22:21:20,1026\r\n",
        "2007-09-18 22:22:40,1052\r\n"
       ]
      }
     ],
     "prompt_number": 149
    },
    {
     "cell_type": "code",
     "collapsed": false,
     "input": [],
     "language": "python",
     "metadata": {},
     "outputs": []
    },
    {
     "cell_type": "code",
     "collapsed": false,
     "input": [],
     "language": "python",
     "metadata": {},
     "outputs": []
    }
   ],
   "metadata": {}
  }
 ]
}