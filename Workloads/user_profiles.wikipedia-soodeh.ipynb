{
 "metadata": {
  "name": "",
  "signature": "sha256:9db90a11fa93e6c79b404d09d5935814999d5a1b415b917ace22d524fa4d2c13"
 },
 "nbformat": 3,
 "nbformat_minor": 0,
 "worksheets": [
  {
   "cells": [
    {
     "cell_type": "markdown",
     "metadata": {},
     "source": [
      "# Prepare and process dataset"
     ]
    },
    {
     "cell_type": "code",
     "collapsed": false,
     "input": [
      "import os\n",
      "figsize=(4.5, 2.5)\n",
      "OUT_LOC = 'data/green-pricing/user_profiles/soodeh/'\n",
      "! mkdir -p $OUT_LOC\n",
      "def loc(filepath):\n",
      "    return os.path.join(OUT_LOC, filepath)"
     ],
     "language": "python",
     "metadata": {},
     "outputs": [],
     "prompt_number": 3
    },
    {
     "cell_type": "markdown",
     "metadata": {},
     "source": [
      "### Parse traces"
     ]
    },
    {
     "cell_type": "code",
     "collapsed": false,
     "input": [
      "import pandas as pd\n",
      "from datetime import datetime, timedelta"
     ],
     "language": "python",
     "metadata": {},
     "outputs": [],
     "prompt_number": 4
    },
    {
     "cell_type": "code",
     "collapsed": false,
     "input": [
      "def read_wikipedia_file(f):\n",
      "    req = pd.read_table(f, sep=' ', parse_dates=[1], header=None, names=['counter', 'time', 'url', 'rw'], index_col=['time'],\n",
      "                        date_parser=lambda s : datetime.fromtimestamp(float(s)))\n",
      "    return req\n",
      "\n",
      "f = \"~/baze/wikipedia/1190268937\"\n",
      "f_small = \"~/baze/wikipedia/1190268937_small\"\n",
      "! head -n 1000 $f > $f_small\n",
      "#! cat $f_small\n",
      "req = read_wikipedia_file(os.path.expanduser(f_small))\n",
      "req.head()"
     ],
     "language": "python",
     "metadata": {},
     "outputs": [
      {
       "html": [
        "<div style=\"max-height:1000px;max-width:1500px;overflow:auto;\">\n",
        "<table border=\"1\" class=\"dataframe\">\n",
        "  <thead>\n",
        "    <tr style=\"text-align: right;\">\n",
        "      <th></th>\n",
        "      <th>counter</th>\n",
        "      <th>url</th>\n",
        "      <th>rw</th>\n",
        "    </tr>\n",
        "    <tr>\n",
        "      <th>time</th>\n",
        "      <th></th>\n",
        "      <th></th>\n",
        "      <th></th>\n",
        "    </tr>\n",
        "  </thead>\n",
        "  <tbody>\n",
        "    <tr>\n",
        "      <th>2007-09-20 06:11:13.604000</th>\n",
        "      <td> 1213762183</td>\n",
        "      <td> http://upload.wikimedia.org/wikipedia/en/thumb...</td>\n",
        "      <td> -</td>\n",
        "    </tr>\n",
        "    <tr>\n",
        "      <th>2007-09-20 06:11:13.557000</th>\n",
        "      <td> 1213762184</td>\n",
        "      <td> http://sl.wikipedia.org/wiki/Posebno:Recentcha...</td>\n",
        "      <td> -</td>\n",
        "    </tr>\n",
        "    <tr>\n",
        "      <th>2007-09-20 06:11:13.621000</th>\n",
        "      <td> 1213762185</td>\n",
        "      <td> http://meta.wikimedia.org/w/index.php?title=Me...</td>\n",
        "      <td> -</td>\n",
        "    </tr>\n",
        "    <tr>\n",
        "      <th>2007-09-20 06:11:13.732000</th>\n",
        "      <td> 1213762187</td>\n",
        "      <td> http://upload.wikimedia.org/wikipedia/commons/...</td>\n",
        "      <td> -</td>\n",
        "    </tr>\n",
        "    <tr>\n",
        "      <th>2007-09-20 06:11:13.604000</th>\n",
        "      <td> 1213762186</td>\n",
        "      <td> http://en.wikipedia.org/w/index.php?title=Medi...</td>\n",
        "      <td> -</td>\n",
        "    </tr>\n",
        "  </tbody>\n",
        "</table>\n",
        "<p>5 rows \u00d7 3 columns</p>\n",
        "</div>"
       ],
       "metadata": {},
       "output_type": "pyout",
       "prompt_number": 126,
       "text": [
        "                               counter  \\\n",
        "time                                     \n",
        "2007-09-20 06:11:13.604000  1213762183   \n",
        "2007-09-20 06:11:13.557000  1213762184   \n",
        "2007-09-20 06:11:13.621000  1213762185   \n",
        "2007-09-20 06:11:13.732000  1213762187   \n",
        "2007-09-20 06:11:13.604000  1213762186   \n",
        "\n",
        "                                                                          url  \\\n",
        "time                                                                            \n",
        "2007-09-20 06:11:13.604000  http://upload.wikimedia.org/wikipedia/en/thumb...   \n",
        "2007-09-20 06:11:13.557000  http://sl.wikipedia.org/wiki/Posebno:Recentcha...   \n",
        "2007-09-20 06:11:13.621000  http://meta.wikimedia.org/w/index.php?title=Me...   \n",
        "2007-09-20 06:11:13.732000  http://upload.wikimedia.org/wikipedia/commons/...   \n",
        "2007-09-20 06:11:13.604000  http://en.wikipedia.org/w/index.php?title=Medi...   \n",
        "\n",
        "                           rw  \n",
        "time                           \n",
        "2007-09-20 06:11:13.604000  -  \n",
        "2007-09-20 06:11:13.557000  -  \n",
        "2007-09-20 06:11:13.621000  -  \n",
        "2007-09-20 06:11:13.732000  -  \n",
        "2007-09-20 06:11:13.604000  -  \n",
        "\n",
        "[5 rows x 3 columns]"
       ]
      }
     ],
     "prompt_number": 126
    },
    {
     "cell_type": "markdown",
     "metadata": {},
     "source": [
      "### Data processing functions"
     ]
    },
    {
     "cell_type": "code",
     "collapsed": false,
     "input": [
      "def set_lang(req):\n",
      "    \"\"\"add the lang column\"\"\"\n",
      "    req2 = req.ix[:, ['url']]\n",
      "    req2['lang'] = req2.url.apply(lambda s : s[7:].split('.')[0])\n",
      "    \n",
      "    return req2\n",
      "\n",
      "req = set_lang(req)\n",
      "req.head()"
     ],
     "language": "python",
     "metadata": {},
     "outputs": [
      {
       "html": [
        "<div style=\"max-height:1000px;max-width:1500px;overflow:auto;\">\n",
        "<table border=\"1\" class=\"dataframe\">\n",
        "  <thead>\n",
        "    <tr style=\"text-align: right;\">\n",
        "      <th></th>\n",
        "      <th>url</th>\n",
        "      <th>lang</th>\n",
        "    </tr>\n",
        "    <tr>\n",
        "      <th>time</th>\n",
        "      <th></th>\n",
        "      <th></th>\n",
        "    </tr>\n",
        "  </thead>\n",
        "  <tbody>\n",
        "    <tr>\n",
        "      <th>2007-09-20 06:11:13.604000</th>\n",
        "      <td> http://upload.wikimedia.org/wikipedia/en/thumb...</td>\n",
        "      <td> upload</td>\n",
        "    </tr>\n",
        "    <tr>\n",
        "      <th>2007-09-20 06:11:13.557000</th>\n",
        "      <td> http://sl.wikipedia.org/wiki/Posebno:Recentcha...</td>\n",
        "      <td>     sl</td>\n",
        "    </tr>\n",
        "    <tr>\n",
        "      <th>2007-09-20 06:11:13.621000</th>\n",
        "      <td> http://meta.wikimedia.org/w/index.php?title=Me...</td>\n",
        "      <td>   meta</td>\n",
        "    </tr>\n",
        "    <tr>\n",
        "      <th>2007-09-20 06:11:13.732000</th>\n",
        "      <td> http://upload.wikimedia.org/wikipedia/commons/...</td>\n",
        "      <td> upload</td>\n",
        "    </tr>\n",
        "    <tr>\n",
        "      <th>2007-09-20 06:11:13.604000</th>\n",
        "      <td> http://en.wikipedia.org/w/index.php?title=Medi...</td>\n",
        "      <td>     en</td>\n",
        "    </tr>\n",
        "  </tbody>\n",
        "</table>\n",
        "<p>5 rows \u00d7 2 columns</p>\n",
        "</div>"
       ],
       "metadata": {},
       "output_type": "pyout",
       "prompt_number": 128,
       "text": [
        "                                                                          url  \\\n",
        "time                                                                            \n",
        "2007-09-20 06:11:13.604000  http://upload.wikimedia.org/wikipedia/en/thumb...   \n",
        "2007-09-20 06:11:13.557000  http://sl.wikipedia.org/wiki/Posebno:Recentcha...   \n",
        "2007-09-20 06:11:13.621000  http://meta.wikimedia.org/w/index.php?title=Me...   \n",
        "2007-09-20 06:11:13.732000  http://upload.wikimedia.org/wikipedia/commons/...   \n",
        "2007-09-20 06:11:13.604000  http://en.wikipedia.org/w/index.php?title=Medi...   \n",
        "\n",
        "                              lang  \n",
        "time                                \n",
        "2007-09-20 06:11:13.604000  upload  \n",
        "2007-09-20 06:11:13.557000      sl  \n",
        "2007-09-20 06:11:13.621000    meta  \n",
        "2007-09-20 06:11:13.732000  upload  \n",
        "2007-09-20 06:11:13.604000      en  \n",
        "\n",
        "[5 rows x 2 columns]"
       ]
      }
     ],
     "prompt_number": 128
    },
    {
     "cell_type": "code",
     "collapsed": false,
     "input": [
      "def get_lang_codes(req):\n",
      "    lang_codes = [l for l in set(req.lang) if len(l) <= 3]\n",
      "    acceptable_lang_codes = []\n",
      "    for lang in lang_codes:\n",
      "        mean = req[req.lang == lang].ix[:, 0].resample('min', 'count').mean()\n",
      "        if mean > 13:# hr\n",
      "            acceptable_lang_codes.append(lang)\n",
      "            #print(lang)\n",
      "    return acceptable_lang_codes\n",
      "\n",
      "lang_codes = get_lang_codes(req)\n",
      "list(lang_codes)[:10]"
     ],
     "language": "python",
     "metadata": {},
     "outputs": [
      {
       "metadata": {},
       "output_type": "pyout",
       "prompt_number": 129,
       "text": [
        "['en', 'es', 'ja']"
       ]
      }
     ],
     "prompt_number": 129
    },
    {
     "cell_type": "code",
     "collapsed": false,
     "input": [
      "def filter_lang(req, acceptable_lang_codes):\n",
      "    req2 = req[req.lang.isin(acceptable_lang_codes)]\n",
      "    return req2\n",
      "\n",
      "req = filter_lang(req, lang_codes)\n",
      "req.head()"
     ],
     "language": "python",
     "metadata": {},
     "outputs": [
      {
       "html": [
        "<div style=\"max-height:1000px;max-width:1500px;overflow:auto;\">\n",
        "<table border=\"1\" class=\"dataframe\">\n",
        "  <thead>\n",
        "    <tr style=\"text-align: right;\">\n",
        "      <th></th>\n",
        "      <th>url</th>\n",
        "      <th>lang</th>\n",
        "    </tr>\n",
        "    <tr>\n",
        "      <th>time</th>\n",
        "      <th></th>\n",
        "      <th></th>\n",
        "    </tr>\n",
        "  </thead>\n",
        "  <tbody>\n",
        "    <tr>\n",
        "      <th>2007-09-20 06:11:13.604000</th>\n",
        "      <td> http://en.wikipedia.org/w/index.php?title=Medi...</td>\n",
        "      <td> en</td>\n",
        "    </tr>\n",
        "    <tr>\n",
        "      <th>2007-09-20 06:11:13.624000</th>\n",
        "      <td> http://en.wikipedia.org/skins-1.5/monobook/use...</td>\n",
        "      <td> en</td>\n",
        "    </tr>\n",
        "    <tr>\n",
        "      <th>2007-09-20 06:11:13.624000</th>\n",
        "      <td> http://en.wikipedia.org/skins-1.5/monobook/bul...</td>\n",
        "      <td> en</td>\n",
        "    </tr>\n",
        "    <tr>\n",
        "      <th>2007-09-20 06:11:13.620000</th>\n",
        "      <td>  http://en.wikipedia.org/wiki/Image:Hole_komm.png</td>\n",
        "      <td> en</td>\n",
        "    </tr>\n",
        "    <tr>\n",
        "      <th>2007-09-20 06:11:13.740000</th>\n",
        "      <td> http://ja.wikipedia.org/w/index.php?title=-&amp;ac...</td>\n",
        "      <td> ja</td>\n",
        "    </tr>\n",
        "  </tbody>\n",
        "</table>\n",
        "<p>5 rows \u00d7 2 columns</p>\n",
        "</div>"
       ],
       "metadata": {},
       "output_type": "pyout",
       "prompt_number": 130,
       "text": [
        "                                                                          url  \\\n",
        "time                                                                            \n",
        "2007-09-20 06:11:13.604000  http://en.wikipedia.org/w/index.php?title=Medi...   \n",
        "2007-09-20 06:11:13.624000  http://en.wikipedia.org/skins-1.5/monobook/use...   \n",
        "2007-09-20 06:11:13.624000  http://en.wikipedia.org/skins-1.5/monobook/bul...   \n",
        "2007-09-20 06:11:13.620000   http://en.wikipedia.org/wiki/Image:Hole_komm.png   \n",
        "2007-09-20 06:11:13.740000  http://ja.wikipedia.org/w/index.php?title=-&ac...   \n",
        "\n",
        "                           lang  \n",
        "time                             \n",
        "2007-09-20 06:11:13.604000   en  \n",
        "2007-09-20 06:11:13.624000   en  \n",
        "2007-09-20 06:11:13.624000   en  \n",
        "2007-09-20 06:11:13.620000   en  \n",
        "2007-09-20 06:11:13.740000   ja  \n",
        "\n",
        "[5 rows x 2 columns]"
       ]
      }
     ],
     "prompt_number": 130
    },
    {
     "cell_type": "code",
     "collapsed": false,
     "input": [
      "def reshape_requests(req, freq):\n",
      "\n",
      "    # reshape with resampled t as rows and lang as column\n",
      "    req_reshaped = req.lang\n",
      "    req_reshaped = req_reshaped.groupby(req_reshaped).resample(freq, how='count')\n",
      "    req_reshaped = req_reshaped.unstack(level=0)\n",
      "    req_reshaped[req_reshaped.isnull()] = 0\n",
      "    return req_reshaped\n",
      "\n",
      "req_reshaped = reshape_requests(req, '1ms')\n",
      "req_reshaped.plot()"
     ],
     "language": "python",
     "metadata": {},
     "outputs": [
      {
       "metadata": {},
       "output_type": "pyout",
       "prompt_number": 133,
       "text": [
        "<matplotlib.axes.AxesSubplot at 0x53fe310>"
       ]
      },
      {
       "metadata": {},
       "output_type": "display_data",
       "png": "[encoded data removed]",
       "text": [
        "<matplotlib.figure.Figure at 0x48e7390>"
       ]
      }
     ],
     "prompt_number": 133
    },
    {
     "cell_type": "markdown",
     "metadata": {},
     "source": [
      "### Process individual files"
     ]
    },
    {
     "cell_type": "markdown",
     "metadata": {},
     "source": [
      "Go through all the files and for each call the processing functions."
     ]
    },
    {
     "cell_type": "code",
     "collapsed": false,
     "input": [
      "import os\n",
      "\n",
      "wiki_loc = os.path.expanduser(\"~/baze/wikipedia/all\")\n",
      "pickle_loc = os.path.expanduser(\"~/baze/wikipedia/pickles\")\n",
      "lang_codes = None\n",
      "freq = '1s'\n",
      "def process_all():\n",
      "    for f in os.listdir(wiki_loc): #[:2]:\n",
      "        input_path = os.path.join(wiki_loc, f)\n",
      "        output_path = os.path.join(pickle_loc, f + '.pkl')\n",
      "        # process\n",
      "        req = read_wikipedia_file(input_path)\n",
      "        req = set_lang(req)\n",
      "        if lang_codes is None: # Get set of subdomains (only for the first time).\n",
      "            lang_codes = get_lang_codes(req)\n",
      "        req = filter_lang(req, lang_codes)\n",
      "        req = reshape_requests(req, freq)\n",
      "        req.to_pickle(output_path)\n",
      "#process_all()"
     ],
     "language": "python",
     "metadata": {},
     "outputs": [],
     "prompt_number": 1
    },
    {
     "cell_type": "markdown",
     "metadata": {},
     "source": [
      "### Concatenate pickles"
     ]
    },
    {
     "cell_type": "code",
     "collapsed": false,
     "input": [
      "req_parts = []\n",
      "for f in os.listdir(pickle_loc):\n",
      "    req_parts.append(pd.read_pickle(os.path.join(pickle_loc, f)))\n",
      "req = pd.concat(req_parts)\n",
      "req.head()"
     ],
     "language": "python",
     "metadata": {},
     "outputs": [
      {
       "html": [
        "<div style=\"max-height:1000px;max-width:1500px;overflow:auto;\">\n",
        "<table border=\"1\" class=\"dataframe\">\n",
        "  <thead>\n",
        "    <tr style=\"text-align: right;\">\n",
        "      <th>lang</th>\n",
        "      <th>af</th>\n",
        "      <th>als</th>\n",
        "      <th>ar</th>\n",
        "      <th>bg</th>\n",
        "      <th>bs</th>\n",
        "      <th>ca</th>\n",
        "      <th>cs</th>\n",
        "      <th>da</th>\n",
        "      <th>de</th>\n",
        "      <th>el</th>\n",
        "      <th>en</th>\n",
        "      <th>eo</th>\n",
        "      <th>es</th>\n",
        "      <th>et</th>\n",
        "      <th>eu</th>\n",
        "      <th>fa</th>\n",
        "      <th>fi</th>\n",
        "      <th>fr</th>\n",
        "      <th>gl</th>\n",
        "      <th>he</th>\n",
        "      <th></th>\n",
        "    </tr>\n",
        "    <tr>\n",
        "      <th>time</th>\n",
        "      <th></th>\n",
        "      <th></th>\n",
        "      <th></th>\n",
        "      <th></th>\n",
        "      <th></th>\n",
        "      <th></th>\n",
        "      <th></th>\n",
        "      <th></th>\n",
        "      <th></th>\n",
        "      <th></th>\n",
        "      <th></th>\n",
        "      <th></th>\n",
        "      <th></th>\n",
        "      <th></th>\n",
        "      <th></th>\n",
        "      <th></th>\n",
        "      <th></th>\n",
        "      <th></th>\n",
        "      <th></th>\n",
        "      <th></th>\n",
        "    </tr>\n",
        "  </thead>\n",
        "  <tbody>\n",
        "    <tr>\n",
        "      <th>2007-09-19 03:10:48</th>\n",
        "      <td> 0</td>\n",
        "      <td> 0</td>\n",
        "      <td> 2</td>\n",
        "      <td> 0</td>\n",
        "      <td> 0</td>\n",
        "      <td> 0</td>\n",
        "      <td> 0</td>\n",
        "      <td> 3</td>\n",
        "      <td> 17</td>\n",
        "      <td> 0</td>\n",
        "      <td> 698</td>\n",
        "      <td> 0</td>\n",
        "      <td> 155</td>\n",
        "      <td> 0</td>\n",
        "      <td> 0</td>\n",
        "      <td> 0</td>\n",
        "      <td> 0</td>\n",
        "      <td> 14</td>\n",
        "      <td> 3</td>\n",
        "      <td> 0</td>\n",
        "      <td>...</td>\n",
        "    </tr>\n",
        "    <tr>\n",
        "      <th>2007-09-19 03:10:49</th>\n",
        "      <td> 0</td>\n",
        "      <td> 0</td>\n",
        "      <td> 3</td>\n",
        "      <td> 0</td>\n",
        "      <td> 0</td>\n",
        "      <td> 0</td>\n",
        "      <td> 0</td>\n",
        "      <td> 0</td>\n",
        "      <td> 13</td>\n",
        "      <td> 0</td>\n",
        "      <td> 768</td>\n",
        "      <td> 0</td>\n",
        "      <td> 185</td>\n",
        "      <td> 0</td>\n",
        "      <td> 0</td>\n",
        "      <td> 1</td>\n",
        "      <td> 2</td>\n",
        "      <td> 12</td>\n",
        "      <td> 1</td>\n",
        "      <td> 1</td>\n",
        "      <td>...</td>\n",
        "    </tr>\n",
        "    <tr>\n",
        "      <th>2007-09-19 03:10:50</th>\n",
        "      <td> 0</td>\n",
        "      <td> 0</td>\n",
        "      <td> 1</td>\n",
        "      <td> 1</td>\n",
        "      <td> 3</td>\n",
        "      <td> 0</td>\n",
        "      <td> 1</td>\n",
        "      <td> 0</td>\n",
        "      <td> 13</td>\n",
        "      <td> 0</td>\n",
        "      <td> 705</td>\n",
        "      <td> 2</td>\n",
        "      <td> 189</td>\n",
        "      <td> 0</td>\n",
        "      <td> 1</td>\n",
        "      <td> 0</td>\n",
        "      <td> 1</td>\n",
        "      <td>  9</td>\n",
        "      <td> 0</td>\n",
        "      <td> 0</td>\n",
        "      <td>...</td>\n",
        "    </tr>\n",
        "    <tr>\n",
        "      <th>2007-09-19 03:10:51</th>\n",
        "      <td> 0</td>\n",
        "      <td> 0</td>\n",
        "      <td> 1</td>\n",
        "      <td> 0</td>\n",
        "      <td> 0</td>\n",
        "      <td> 0</td>\n",
        "      <td> 1</td>\n",
        "      <td> 2</td>\n",
        "      <td> 11</td>\n",
        "      <td> 1</td>\n",
        "      <td> 705</td>\n",
        "      <td> 3</td>\n",
        "      <td> 170</td>\n",
        "      <td> 0</td>\n",
        "      <td> 0</td>\n",
        "      <td> 0</td>\n",
        "      <td> 0</td>\n",
        "      <td>  6</td>\n",
        "      <td> 2</td>\n",
        "      <td> 0</td>\n",
        "      <td>...</td>\n",
        "    </tr>\n",
        "    <tr>\n",
        "      <th>2007-09-19 03:10:52</th>\n",
        "      <td> 0</td>\n",
        "      <td> 0</td>\n",
        "      <td> 0</td>\n",
        "      <td> 0</td>\n",
        "      <td> 0</td>\n",
        "      <td> 0</td>\n",
        "      <td> 1</td>\n",
        "      <td> 0</td>\n",
        "      <td> 22</td>\n",
        "      <td> 1</td>\n",
        "      <td> 709</td>\n",
        "      <td> 0</td>\n",
        "      <td> 174</td>\n",
        "      <td> 0</td>\n",
        "      <td> 0</td>\n",
        "      <td> 0</td>\n",
        "      <td> 0</td>\n",
        "      <td>  9</td>\n",
        "      <td> 5</td>\n",
        "      <td> 1</td>\n",
        "      <td>...</td>\n",
        "    </tr>\n",
        "  </tbody>\n",
        "</table>\n",
        "<p>5 rows \u00d7 51 columns</p>\n",
        "</div>"
       ],
       "metadata": {},
       "output_type": "pyout",
       "prompt_number": 5,
       "text": [
        "lang                 af  als  ar  bg  bs  ca  cs  da  de  el   en  eo   es  \\\n",
        "time                                                                         \n",
        "2007-09-19 03:10:48   0    0   2   0   0   0   0   3  17   0  698   0  155   \n",
        "2007-09-19 03:10:49   0    0   3   0   0   0   0   0  13   0  768   0  185   \n",
        "2007-09-19 03:10:50   0    0   1   1   3   0   1   0  13   0  705   2  189   \n",
        "2007-09-19 03:10:51   0    0   1   0   0   0   1   2  11   1  705   3  170   \n",
        "2007-09-19 03:10:52   0    0   0   0   0   0   1   0  22   1  709   0  174   \n",
        "\n",
        "lang                 et  eu  fa  fi  fr  gl  he      \n",
        "time                                                 \n",
        "2007-09-19 03:10:48   0   0   0   0  14   3   0 ...  \n",
        "2007-09-19 03:10:49   0   0   1   2  12   1   1 ...  \n",
        "2007-09-19 03:10:50   0   1   0   1   9   0   0 ...  \n",
        "2007-09-19 03:10:51   0   0   0   0   6   2   0 ...  \n",
        "2007-09-19 03:10:52   0   0   0   0   9   5   1 ...  \n",
        "\n",
        "[5 rows x 51 columns]"
       ]
      }
     ],
     "prompt_number": 5
    },
    {
     "cell_type": "code",
     "collapsed": false,
     "input": [
      "int(req.sum().sum()) # -> 100 million requests"
     ],
     "language": "python",
     "metadata": {},
     "outputs": [
      {
       "metadata": {},
       "output_type": "pyout",
       "prompt_number": 6,
       "text": [
        "101647813"
       ]
      }
     ],
     "prompt_number": 6
    },
    {
     "cell_type": "code",
     "collapsed": false,
     "input": [
      "req.de.plot(style='b-')\n",
      "ylabel('requests (per second)')\n",
      "savefig(loc('requests.pdf'))"
     ],
     "language": "python",
     "metadata": {},
     "outputs": [
      {
       "metadata": {},
       "output_type": "display_data",
       "png": "[encoded data removed]",
       "text": [
        "<matplotlib.figure.Figure at 0x39d5d1d0>"
       ]
      }
     ],
     "prompt_number": 194
    },
    {
     "cell_type": "code",
     "collapsed": false,
     "input": [
      "req.en.plot()"
     ],
     "language": "python",
     "metadata": {},
     "outputs": [
      {
       "metadata": {},
       "output_type": "pyout",
       "prompt_number": 9,
       "text": [
        "<matplotlib.axes.AxesSubplot at 0x3085450>"
       ]
      },
      {
       "metadata": {},
       "output_type": "display_data",
       "png": "[encoded data removed]",
       "text": [
        "<matplotlib.figure.Figure at 0x305fa10>"
       ]
      }
     ],
     "prompt_number": 9
    },
    {
     "cell_type": "markdown",
     "metadata": {},
     "source": [
      "### Smaller version"
     ]
    },
    {
     "cell_type": "code",
     "collapsed": false,
     "input": [
      "de_small = req.de.copy()\n",
      "de_small = de_small.resample('1h', how='sum')\n",
      "#de_small.index = pd.date_range(start='2007-09-19 03:10:48', periods=len(req.de.index), freq='s')\n",
      "de_small = de_small / 10000\n",
      "de_small.plot()"
     ],
     "language": "python",
     "metadata": {},
     "outputs": [
      {
       "metadata": {},
       "output_type": "pyout",
       "prompt_number": 172,
       "text": [
        "<matplotlib.axes.AxesSubplot at 0x2ee98dd0>"
       ]
      },
      {
       "metadata": {},
       "output_type": "display_data",
       "png": "[encoded data removed]",
       "text": [
        "<matplotlib.figure.Figure at 0x2ee8ff10>"
       ]
      }
     ],
     "prompt_number": 172
    },
    {
     "cell_type": "code",
     "collapsed": false,
     "input": [
      "req.de.resample('100s', how='sum').plot()"
     ],
     "language": "python",
     "metadata": {},
     "outputs": [
      {
       "metadata": {},
       "output_type": "pyout",
       "prompt_number": 11,
       "text": [
        "<matplotlib.axes.AxesSubplot at 0x57ba350>"
       ]
      },
      {
       "metadata": {},
       "output_type": "display_data",
       "png": "[encoded data removed]",
       "text": [
        "<matplotlib.figure.Figure at 0x305f9d0>"
       ]
      }
     ],
     "prompt_number": 11
    },
    {
     "cell_type": "markdown",
     "metadata": {},
     "source": [
      "# Forming the dataset"
     ]
    },
    {
     "cell_type": "code",
     "collapsed": false,
     "input": [
      "def random_story_id():\n",
      "    return int(random.uniform(1, 6000))\n",
      "random_story_id()"
     ],
     "language": "python",
     "metadata": {},
     "outputs": [
      {
       "metadata": {},
       "output_type": "pyout",
       "prompt_number": 150,
       "text": [
        "3301"
       ]
      }
     ],
     "prompt_number": 150
    },
    {
     "cell_type": "code",
     "collapsed": false,
     "input": [
      "def create_script(req, path):\n",
      "    with open(path, 'w') as out_file:\n",
      "        output = ' >> csv/wikipedia-output.csv\\n'\n",
      "        header = '#!/bin/bash\\necho \"reportTime, min-latency(ms), lowerQuartile-latency(ms), median-latency(ms), upperQuartile-latency(ms),maximum-latency(ms),average-latency(ms),latency95(ms),latency99(ms),numRequests,numOption1,numOption2,numErrors,throughput(rps),  recommendationRate(percent),commentRate(percent),acc-numRequests,acc-numOption1,acc-numOption2, acc-min-latency(ms),acc-lowerQuartile-latency(ms),acc-median-latency(ms),acc-upperQuartile-latency(ms),acc-maximum-latency(ms), acc-average-latency(ms),acc-latency95(ms),acc-latency99(ms),acc-openQueuing, acc-numErrors\"'\n",
      "        out_file.write(header + output)\n",
      "        for t, req_num in req.iteritems():#[:10]:\n",
      "            base_cmd = \"./httpmon --url  http://192.168.122.139/PHP/ViewStory.php\"\n",
      "            url_param = \"?storyId={}\".format(random_story_id())\n",
      "            options = \" --concurrency {0} --thinktime 1 --count  {0} --open --interval 1\".format(int(req_num))\n",
      "            cmd = base_cmd + url_param + options + output\n",
      "            #print(cmd)\n",
      "            out_file.write(cmd)\n",
      "create_script(req.de, os.path.expanduser('~/baze/wikipedia/soodeh-scripts/make_requests-big.sh'))\n",
      "create_script(de_small, os.path.expanduser('~/baze/wikipedia/soodeh-scripts/make_requests-small.sh'))"
     ],
     "language": "python",
     "metadata": {},
     "outputs": [],
     "prompt_number": 178
    },
    {
     "cell_type": "code",
     "collapsed": false,
     "input": [
      "! mkdir -p ~/baze/wikipedia/soodeh-data/\n",
      "req.de.astype(int).to_csv(os.path.expanduser('~/baze/wikipedia/soodeh-data/wikipedia-de.csv'))\n",
      "! head ~/baze/wikipedia/soodeh-data/wikipedia-de.csv"
     ],
     "language": "python",
     "metadata": {},
     "outputs": [
      {
       "output_type": "stream",
       "stream": "stdout",
       "text": [
        "2007-09-19 03:10:48,17\r\n",
        "2007-09-19 03:10:49,13\r\n",
        "2007-09-19 03:10:50,13\r\n",
        "2007-09-19 03:10:51,11\r\n",
        "2007-09-19 03:10:52,22\r\n",
        "2007-09-19 03:10:53,11\r\n",
        "2007-09-19 03:10:54,24\r\n",
        "2007-09-19 03:10:55,15\r\n",
        "2007-09-19 03:10:56,21\r\n",
        "2007-09-19 03:10:57,16\r\n"
       ]
      }
     ],
     "prompt_number": 207
    },
    {
     "cell_type": "code",
     "collapsed": false,
     "input": [
      "req.de.resample('100s', how='sum').astype(int).to_csv(os.path.expanduser('~/baze/wikipedia/soodeh-data/wikipedia-de-100s.csv'))\n",
      "! head ~/baze/wikipedia/soodeh-data/wikipedia-de-100s.csv"
     ],
     "language": "python",
     "metadata": {},
     "outputs": [
      {
       "output_type": "stream",
       "stream": "stdout",
       "text": [
        "2007-09-18 22:10:00,7854\r\n",
        "2007-09-18 22:11:40,13503\r\n",
        "2007-09-18 22:13:20,13421\r\n",
        "2007-09-18 22:15:00,12885\r\n",
        "2007-09-18 22:16:40,13062\r\n",
        "2007-09-18 22:18:20,13321\r\n",
        "2007-09-18 22:20:00,12984\r\n",
        "2007-09-18 22:21:40,12942\r\n",
        "2007-09-18 22:23:20,12903\r\n",
        "2007-09-18 22:25:00,12943\r\n"
       ]
      }
     ],
     "prompt_number": 12
    }
   ],
   "metadata": {}
  }
 ]
}