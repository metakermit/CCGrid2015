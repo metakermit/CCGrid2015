{
 "metadata": {
  "name": "",
  "signature": "sha256:4d0aa28b30bb2e4ae654a8eb28ecdbb324f549215f94761fd85b5fbec5ec0413"
 },
 "nbformat": 3,
 "nbformat_minor": 0,
 "worksheets": [
  {
   "cells": [
    {
     "cell_type": "markdown",
     "metadata": {},
     "source": [
      "# Overview\n",
      "\n",
      "This is an IPython notebook used to read a dataset of HTTP requests made to the 1998 World Cup web pages, process them by aggregating them over a larger period (e.g. a second or a minute) by counting the individual requests (thus greatly reducing the dataset size) and output the format in a comma separated value (CSV) format that can be used to emulate the workload pattern.\n",
      "\n",
      "This notebook can be downloaded and used for reproducibility purposes or further research.\n",
      "\n",
      "## Installation\n",
      "\n",
      "To install IPython notebook and the dependencies for this notebook, first download and install the latest 2.7.x version of [Python](https://www.python.org/downloads/) (this notebook was run using Python 2.7.3). Then install the pip and virtualenv packages if they are not already available on your operating system.\n",
      "\n",
      "    sudo easy_install pip\n",
      "    sudo pip install virtualenv\n",
      "\n",
      "If you are a Windows user, installing a scientific Python distribution, such as [Anaconda](http://continuum.io/downloads) is a simpler approach.\n",
      "\n",
      "All of the bellow steps are assumed to be performed from the same directory, e.g. `~/code`.\n",
      "\n",
      "Once pip and virtualenv packages are ready, create a new virtualenv *venv* and activate it.\n",
      "\n",
      "    virtualenv --system-site-packages venv\n",
      "    source venv/bin/activate\n",
      "\n",
      "You can make sure that the virtualenv is activated by issuing:\n",
      "\n",
      "    which python\n",
      "\n",
      "and you should get something like `/home/username/code/venv/bin/python`, the path to the python interpreter inside the virtualenv you just created. We can now install the dependencies we need to run this notebook:\n",
      "\n",
      "    pip install pandas==0.14.0\n",
      "    pip install ipython[notebook]\n",
      "    \n",
      "If you are viewing this notebook online in nbviewer, in the upper right corner there should be a *Download Notebook* button which you can click to download the source code of this notebook. Go ahead and copy the downloaded `.ipynb` file to the current working directory.\n",
      "\n",
      "## World Cup Dataset\n",
      "\n",
      "The dataset of World Cup requests can be obtained from [here](http://ita.ee.lbl.gov/html/contrib/WorldCup.html). Download the dataset segments you want to parse (e.g. a couple of consequtive days or a whole month) into a directory of your choosing. Note the path to this folder, as you will have to override the `DATA_LOC` variable with your own path.\n",
      "\n",
      "## Usage\n",
      "\n",
      "Start the notebook (assuming the virtualenv from above is still activated) by issuing:\n",
      "\n",
      "    ipython --pylab=inline notebook\n",
      "    \n",
      "Open the url [http://localhost:8888/](http://localhost:8888/) in your browser and you should see the IPython notebook web interface. If you already copied the `.ipynb` file of this notebook, you should see it in the list of notebooks. Click on it to open the interactive notebook in a new tab. Once inside the notebook, clicking the *Cell \u2013 Run All* button in the menu bar will execute all the cells and generate the resulting CSV file.\n",
      "\n",
      "The two main things to do **before running** the whole notebook are:\n",
      "\n",
      " - override the paths to match the ones on your machine (the global parameters section below)\n",
      " - uncomment the line `#process_all()` call by removing the `#` symbol\n",
      "   - do this only on the first run, as (depending on your downloaded dataset size) the execution might take a long time\n",
      "   - subsequent runs can be done with this line commented out, as the cached pickle files will then be read instead, which is much faster\n",
      "\n",
      "# Parsing the World Cup dataset\n",
      "\n",
      "The steps below are the actual steps for parsing the dataset.\n",
      "\n",
      "## Prepare and process dataset\n",
      "\n",
      "In this part we will define the necessary functions using a sample file for illustration as a running example.\n",
      "\n",
      "### Global parameters\n",
      "\n",
      "Override the global parameters `OUT_LOC`, `DATASET_LOC` and `SAMPLE_FILE` to match the paths on your computer."
     ]
    },
    {
     "cell_type": "code",
     "collapsed": false,
     "input": [
      "import os\n",
      "\n",
      "# global parameters\n",
      "####################\n",
      "# aggregatoin period to aggregate for the req_small dataset\n",
      "# - this controls the size of the *-1000s output files\n",
      "aggregation_period = '3600s'\n",
      "#aggregation_period = '1248715s' # to have 1000 records\n",
      "\n",
      "# if dev = True, not the whole dataset will be read, but just a small portion\n",
      "# to make sure everything works\n",
      "dev = False\n",
      "#dev = True\n",
      "\n",
      "# the location where the results will be stored - OVERRIDE to your liking\n",
      "OUT_LOC = '/home/soodeh/notebook/data/user_profiles/soodeh/'\n",
      "! mkdir -p $OUT_LOC # create folders up to the path if they don't already exist\n",
      "\n",
      "# The location of the downloaded Wikipedia traces - OVERRIDE to where you stored them\n",
      "# - we assumed there exists a subfolder all/ at this path where the actual input data is stored\n",
      "# - additionally, we assume there is a subfolder pickles/ where the intermediary pickle files are cached\n",
      "# So, for example the folder should look like this:\n",
      "#\n",
      "# worldcup/\n",
      "# - all/\n",
      "#   - wc_day47_1\n",
      "#   - wc_day47_2\n",
      "#   - ...\n",
      "# - pickles/\n",
      "#\n",
      "DATASET_LOC = \"/home/soodeh/workload/worldcup\"\n",
      "\n",
      "# the location to one of the downloaded segments - OVERRIDE to match one of the files you downloaded\n",
      "SAMPLE_FILE = os.path.join(DATASET_LOC, \"all/wc_day47_1\")\n",
      "\n",
      "# the default figure size\n",
      "figsize=(4.5, 2.5)\n",
      "\n",
      "# frequency at which to aggregate while reading the raw data\n",
      "aggregation_freq = '3600s'\n",
      "\n",
      "def loc(filepath):\n",
      "    \"\"\"shorthand for appending filepath relative path to the absolute OUT_LOC path\"\"\"\n",
      "    return os.path.join(OUT_LOC, filepath)"
     ],
     "language": "python",
     "metadata": {},
     "outputs": [],
     "prompt_number": 33
    },
    {
     "cell_type": "markdown",
     "metadata": {},
     "source": [
      "### Parse traces\n",
      "The logic for parsing the traces into [pandas](http://pandas.pydata.org/) DataFrame structures.\n",
      "\n",
      "First import the dependencies."
     ]
    },
    {
     "cell_type": "code",
     "collapsed": false,
     "input": [
      "import pandas as pd\n",
      "from datetime import datetime, timedelta"
     ],
     "language": "python",
     "metadata": {},
     "outputs": [],
     "prompt_number": 6
    },
    {
     "cell_type": "markdown",
     "metadata": {},
     "source": [
      "The function `read_worldcup_file` reads a single file into a pandas DataFrame. We test it bellow on a small segment of one of the files (optional)."
     ]
    },
    {
     "cell_type": "code",
     "collapsed": false,
     "input": [
      "from struct import unpack, calcsize\n",
      "\n",
      "f = SAMPLE_FILE\n",
      "\n",
      "def read_worldcup_file(f, dev=False):\n",
      "    entry_format = '>IIIIcccc'\n",
      "    keys = 'timestamp, clientID, objectID, size,  method, status, filetype, server'.split(', ')\n",
      "    entry_size = calcsize(entry_format)\n",
      "    rows = []\n",
      "    with open(f, mode='rb') as inputfile:\n",
      "        entry_count = os.fstat(inputfile.fileno()).st_size / entry_size\n",
      "        if dev:\n",
      "            reading_range = range(entry_count)[:100]#00\n",
      "        else:\n",
      "            reading_range = range(entry_count)\n",
      "        for i in reading_range:\n",
      "            record = inputfile.read(entry_size)\n",
      "            entry = unpack(entry_format, record)\n",
      "            timestamp, clientID, objectID, size,  method, status, filetype, server = entry\n",
      "            row = dict(zip(keys, entry))\n",
      "            rows.append(row)\n",
      "    wc = pd.DataFrame(rows)\n",
      "    wc.timestamp = wc.timestamp.astype('datetime64[s]')\n",
      "    wc = wc.set_index('timestamp')\n",
      "    return wc\n",
      "\n",
      "wc = read_worldcup_file(f, dev=True)\n",
      "wc.head()"
     ],
     "language": "python",
     "metadata": {},
     "outputs": [
      {
       "html": [
        "<div style=\"max-height:1000px;max-width:1500px;overflow:auto;\">\n",
        "<table border=\"1\" class=\"dataframe\">\n",
        "  <thead>\n",
        "    <tr style=\"text-align: right;\">\n",
        "      <th></th>\n",
        "      <th> method</th>\n",
        "      <th>clientID</th>\n",
        "      <th>filetype</th>\n",
        "      <th>objectID</th>\n",
        "      <th>server</th>\n",
        "      <th>size</th>\n",
        "      <th>status</th>\n",
        "    </tr>\n",
        "    <tr>\n",
        "      <th>timestamp</th>\n",
        "      <th></th>\n",
        "      <th></th>\n",
        "      <th></th>\n",
        "      <th></th>\n",
        "      <th></th>\n",
        "      <th></th>\n",
        "      <th></th>\n",
        "    </tr>\n",
        "  </thead>\n",
        "  <tbody>\n",
        "    <tr>\n",
        "      <th>1998-06-10 22:00:01</th>\n",
        "      <td> \u0000</td>\n",
        "      <td>   62575</td>\n",
        "      <td> \u0001</td>\n",
        "      <td> 24677</td>\n",
        "      <td> b</td>\n",
        "      <td> 4294967295</td>\n",
        "      <td> M</td>\n",
        "    </tr>\n",
        "    <tr>\n",
        "      <th>1998-06-10 22:00:01</th>\n",
        "      <td> \u0000</td>\n",
        "      <td> 1325927</td>\n",
        "      <td> \u0001</td>\n",
        "      <td> 24672</td>\n",
        "      <td> b</td>\n",
        "      <td>        243</td>\n",
        "      <td> B</td>\n",
        "    </tr>\n",
        "    <tr>\n",
        "      <th>1998-06-10 22:00:01</th>\n",
        "      <td> \u0000</td>\n",
        "      <td> 1325927</td>\n",
        "      <td> \u0001</td>\n",
        "      <td> 24602</td>\n",
        "      <td> b</td>\n",
        "      <td>        352</td>\n",
        "      <td> B</td>\n",
        "    </tr>\n",
        "    <tr>\n",
        "      <th>1998-06-10 22:00:01</th>\n",
        "      <td> \u0000</td>\n",
        "      <td> 1325927</td>\n",
        "      <td> \u0001</td>\n",
        "      <td> 24645</td>\n",
        "      <td> b</td>\n",
        "      <td>       2240</td>\n",
        "      <td> B</td>\n",
        "    </tr>\n",
        "    <tr>\n",
        "      <th>1998-06-10 22:00:01</th>\n",
        "      <td> \u0000</td>\n",
        "      <td>  259713</td>\n",
        "      <td> \u0001</td>\n",
        "      <td> 24721</td>\n",
        "      <td> b</td>\n",
        "      <td> 4294967295</td>\n",
        "      <td> M</td>\n",
        "    </tr>\n",
        "  </tbody>\n",
        "</table>\n",
        "</div>"
       ],
       "metadata": {},
       "output_type": "pyout",
       "prompt_number": 13,
       "text": [
        "                     method  clientID filetype  objectID server        size  \\\n",
        "timestamp                                                                     \n",
        "1998-06-10 22:00:01       \u0000     62575        \u0001     24677      b  4294967295   \n",
        "1998-06-10 22:00:01       \u0000   1325927        \u0001     24672      b         243   \n",
        "1998-06-10 22:00:01       \u0000   1325927        \u0001     24602      b         352   \n",
        "1998-06-10 22:00:01       \u0000   1325927        \u0001     24645      b        2240   \n",
        "1998-06-10 22:00:01       \u0000    259713        \u0001     24721      b  4294967295   \n",
        "\n",
        "                    status  \n",
        "timestamp                   \n",
        "1998-06-10 22:00:01      M  \n",
        "1998-06-10 22:00:01      B  \n",
        "1998-06-10 22:00:01      B  \n",
        "1998-06-10 22:00:01      B  \n",
        "1998-06-10 22:00:01      M  "
       ]
      }
     ],
     "prompt_number": 13
    },
    {
     "cell_type": "code",
     "collapsed": false,
     "input": [
      "wc.tail()"
     ],
     "language": "python",
     "metadata": {},
     "outputs": [
      {
       "html": [
        "<div style=\"max-height:1000px;max-width:1500px;overflow:auto;\">\n",
        "<table border=\"1\" class=\"dataframe\">\n",
        "  <thead>\n",
        "    <tr style=\"text-align: right;\">\n",
        "      <th></th>\n",
        "      <th> method</th>\n",
        "      <th>clientID</th>\n",
        "      <th>filetype</th>\n",
        "      <th>objectID</th>\n",
        "      <th>server</th>\n",
        "      <th>size</th>\n",
        "      <th>status</th>\n",
        "    </tr>\n",
        "    <tr>\n",
        "      <th>timestamp</th>\n",
        "      <th></th>\n",
        "      <th></th>\n",
        "      <th></th>\n",
        "      <th></th>\n",
        "      <th></th>\n",
        "      <th></th>\n",
        "      <th></th>\n",
        "    </tr>\n",
        "  </thead>\n",
        "  <tbody>\n",
        "    <tr>\n",
        "      <th>1998-06-10 22:00:15</th>\n",
        "      <td> \u0000</td>\n",
        "      <td> 1325927</td>\n",
        "      <td> \u0001</td>\n",
        "      <td> 24671</td>\n",
        "      <td> b</td>\n",
        "      <td>  286</td>\n",
        "      <td> B</td>\n",
        "    </tr>\n",
        "    <tr>\n",
        "      <th>1998-06-10 22:00:15</th>\n",
        "      <td> \u0000</td>\n",
        "      <td>   82545</td>\n",
        "      <td> \u0001</td>\n",
        "      <td>   121</td>\n",
        "      <td> C</td>\n",
        "      <td>  513</td>\n",
        "      <td> B</td>\n",
        "    </tr>\n",
        "    <tr>\n",
        "      <th>1998-06-10 22:00:15</th>\n",
        "      <td> \u0000</td>\n",
        "      <td>    2568</td>\n",
        "      <td> \u0001</td>\n",
        "      <td> 13739</td>\n",
        "      <td> B</td>\n",
        "      <td> 2095</td>\n",
        "      <td> B</td>\n",
        "    </tr>\n",
        "    <tr>\n",
        "      <th>1998-06-10 22:00:16</th>\n",
        "      <td> \u0000</td>\n",
        "      <td>    2568</td>\n",
        "      <td> \u0001</td>\n",
        "      <td>    88</td>\n",
        "      <td> B</td>\n",
        "      <td> 1362</td>\n",
        "      <td> B</td>\n",
        "    </tr>\n",
        "    <tr>\n",
        "      <th>1998-06-10 22:00:16</th>\n",
        "      <td> \u0000</td>\n",
        "      <td>    2568</td>\n",
        "      <td> \u0001</td>\n",
        "      <td> 13718</td>\n",
        "      <td> B</td>\n",
        "      <td>    0</td>\n",
        "      <td> M</td>\n",
        "    </tr>\n",
        "  </tbody>\n",
        "</table>\n",
        "</div>"
       ],
       "metadata": {},
       "output_type": "pyout",
       "prompt_number": 14,
       "text": [
        "                     method  clientID filetype  objectID server  size status\n",
        "timestamp                                                                   \n",
        "1998-06-10 22:00:15       \u0000   1325927        \u0001     24671      b   286      B\n",
        "1998-06-10 22:00:15       \u0000     82545        \u0001       121      C   513      B\n",
        "1998-06-10 22:00:15       \u0000      2568        \u0001     13739      B  2095      B\n",
        "1998-06-10 22:00:16       \u0000      2568        \u0001        88      B  1362      B\n",
        "1998-06-10 22:00:16       \u0000      2568        \u0001     13718      B     0      M"
       ]
      }
     ],
     "prompt_number": 14
    },
    {
     "cell_type": "markdown",
     "metadata": {},
     "source": [
      "We can select any column, as we are only interested in counting the incoming requests over some aggregation period (e.g. 1 s)."
     ]
    },
    {
     "cell_type": "code",
     "collapsed": false,
     "input": [
      "wc.objectID.resample('s', how='count').plot()"
     ],
     "language": "python",
     "metadata": {},
     "outputs": [
      {
       "metadata": {},
       "output_type": "pyout",
       "prompt_number": 17,
       "text": [
        "<matplotlib.axes.AxesSubplot at 0x3acf7d0>"
       ]
      },
      {
       "metadata": {},
       "output_type": "display_data",
       "png": "[encoded data removed]",
       "text": [
        "<matplotlib.figure.Figure at 0x3bb5fd0>"
       ]
      }
     ],
     "prompt_number": 17
    },
    {
     "cell_type": "markdown",
     "metadata": {},
     "source": [
      "### Data processing functions\n",
      "To automate this, we define a function for reshaping the data."
     ]
    },
    {
     "cell_type": "code",
     "collapsed": false,
     "input": [
      "def reshape_requests(req, freq):\n",
      "    req_reshaped = req.objectID #.ix[:, ['objectID']]\n",
      "    req_reshaped = req_reshaped.resample(freq, how='count')\n",
      "    return req_reshaped\n",
      "\n",
      "wc_reshaped = reshape_requests(wc, '1s')\n",
      "wc_reshaped.head()"
     ],
     "language": "python",
     "metadata": {},
     "outputs": [
      {
       "metadata": {},
       "output_type": "pyout",
       "prompt_number": 19,
       "text": [
        "timestamp\n",
        "1998-06-10 22:00:01     9\n",
        "1998-06-10 22:00:02     2\n",
        "1998-06-10 22:00:03    11\n",
        "1998-06-10 22:00:04     5\n",
        "1998-06-10 22:00:05     7\n",
        "Freq: S, Name: objectID, dtype: int64"
       ]
      }
     ],
     "prompt_number": 19
    },
    {
     "cell_type": "markdown",
     "metadata": {},
     "source": [
      "# Process individual files\n",
      "In this part we process individual files. We first build up the path to the pickles folder where we output the serialised DataFrame objects."
     ]
    },
    {
     "cell_type": "code",
     "collapsed": false,
     "input": [
      "pickle_loc = os.path.join(DATASET_LOC, \"pickles\")\n",
      "! mkdir -p $pickle_loc\n",
      "processed_files = set([os.path.splitext(filename)[0] for filename in os.listdir(pickle_loc)])\n",
      "len(processed_files)"
     ],
     "language": "python",
     "metadata": {},
     "outputs": [
      {
       "metadata": {},
       "output_type": "pyout",
       "prompt_number": 22,
       "text": [
        "201"
       ]
      }
     ],
     "prompt_number": 22
    },
    {
     "cell_type": "markdown",
     "metadata": {},
     "source": [
      "This is the main function for parsing that goes through all the files and for each one calls the processing functions. This can be very slow for many segment files. Because of this on the first run the program creates pickles with serialised analysed DataFrame objects that can later be deserialised much more quickly.\n",
      "\n",
      "Because of this, only uncomment this function call during the first run. If the pickles are ready, skip this phase!"
     ]
    },
    {
     "cell_type": "code",
     "collapsed": false,
     "input": [
      "import os\n",
      "wc_loc = os.path.join(DATASET_LOC, \"all\")\n",
      "def process_all(freq):\n",
      "    \"\"\"Go through all the files and for each call the processing functions.\"\"\"\n",
      "    for f in sorted(os.listdir(wc_loc)): #[:2]:\n",
      "        if f not in processed_files:\n",
      "            input_path = os.path.join(wc_loc, f)\n",
      "            print(input_path)\n",
      "            output_path = os.path.join(pickle_loc, f + '.pkl')\n",
      "            # process\n",
      "            req = read_worldcup_file(input_path, dev)\n",
      "            req = reshape_requests(req, freq)\n",
      "            req.to_pickle(output_path)\n",
      "#process_all(aggregation_freq)"
     ],
     "language": "python",
     "metadata": {},
     "outputs": [],
     "prompt_number": 20
    },
    {
     "cell_type": "markdown",
     "metadata": {},
     "source": [
      "### Concatenate pickles\n",
      "\n",
      "Once the pickles are created, we can quickly deserialise them and concatenate them into a single big DataFrame."
     ]
    },
    {
     "cell_type": "code",
     "collapsed": false,
     "input": [
      "req_parts = []\n",
      "for f in sorted(os.listdir(pickle_loc)):\n",
      "    req_parts.append(pd.read_pickle(os.path.join(pickle_loc, f)))\n",
      "req = pd.concat(req_parts)\n",
      "req.index.name = 'index'\n",
      "req.name = 'requests'\n",
      "# sum duplicate indices\n",
      "req = req.reset_index().groupby('index').sum()\n",
      "req = req.iloc[:, 0]\n",
      "req.head()"
     ],
     "language": "python",
     "metadata": {},
     "outputs": [
      {
       "metadata": {},
       "output_type": "pyout",
       "prompt_number": 23,
       "text": [
        "index\n",
        "1998-05-31 22:00:00    1914\n",
        "1998-05-31 22:01:00    2558\n",
        "1998-05-31 22:02:00    2394\n",
        "1998-05-31 22:03:00    2052\n",
        "1998-05-31 22:04:00    2366\n",
        "Name: requests, dtype: int64"
       ]
      }
     ],
     "prompt_number": 23
    },
    {
     "cell_type": "code",
     "collapsed": false,
     "input": [
      "req.tail()"
     ],
     "language": "python",
     "metadata": {},
     "outputs": [
      {
       "metadata": {},
       "output_type": "pyout",
       "prompt_number": 24,
       "text": [
        "index\n",
        "1998-07-14 21:56:00    4572\n",
        "1998-07-14 21:57:00    4229\n",
        "1998-07-14 21:58:00    5079\n",
        "1998-07-14 21:59:00    4351\n",
        "1998-07-14 22:00:00      15\n",
        "Name: requests, dtype: int64"
       ]
      }
     ],
     "prompt_number": 24
    },
    {
     "cell_type": "markdown",
     "metadata": {},
     "source": [
      "Wondering how many requests we have in total?"
     ]
    },
    {
     "cell_type": "code",
     "collapsed": false,
     "input": [
      "int(req.sum().sum()) # ~ 1.25 billion requests"
     ],
     "language": "python",
     "metadata": {},
     "outputs": [
      {
       "metadata": {},
       "output_type": "pyout",
       "prompt_number": 26,
       "text": [
        "1248715345"
       ]
      }
     ],
     "prompt_number": 26
    },
    {
     "cell_type": "markdown",
     "metadata": {},
     "source": [
      "We can now plot the data."
     ]
    },
    {
     "cell_type": "code",
     "collapsed": false,
     "input": [
      "figure(figsize=(10,6))\n",
      "req.plot(style='r-')\n",
      "ylabel('worldcup98 website requests (per hour)')\n",
      "xlabel('time during one and half months')\n",
      "savefig(loc('wordcup_requests_months.pdf'))"
     ],
     "language": "python",
     "metadata": {},
     "outputs": [
      {
       "metadata": {},
       "output_type": "display_data",
       "png": "[encoded data removed]",
       "text": [
        "<matplotlib.figure.Figure at 0xe2cd590>"
       ]
      }
     ],
     "prompt_number": 34
    },
    {
     "cell_type": "markdown",
     "metadata": {},
     "source": [
      "### Scaling the data\n",
      "\n",
      "The DataFrame can now be scaled to retain the same pattern, but match our experiment requirements. For example we can scale it horizontally to 1000 s per the globally defined aggregation_period."
     ]
    },
    {
     "cell_type": "code",
     "collapsed": false,
     "input": [
      "figure(figsize=(10,6))\n",
      "savefig(loc('wordcup_scaled_requests_1000.pdf'))\n",
      "req_small = req.copy()\n",
      "req_small = req_small.resample(aggregation_period, how='sum')\n",
      "# #de_small.index = pd.date_range(start='2007-09-19 03:10:48', periods=len(req.de.index), freq='s')\n",
      "req_small = req_small / 11900\n",
      "req_small = req_small.dropna().astype(int)\n",
      "print(len(req_small))\n",
      "req_small.plot(style='r-')\n",
      "ylabel('scaled worldcup98 website user requests per hour')\n",
      "xlabel('one and half months period scaled to 1000 sec')\n",
      "savefig(loc('wordcup_scaled_requests_1000_1000VS.pdf'))\n",
      "req_small.head()"
     ],
     "language": "python",
     "metadata": {},
     "outputs": [
      {
       "output_type": "stream",
       "stream": "stdout",
       "text": [
        "1057\n"
       ]
      },
      {
       "metadata": {},
       "output_type": "pyout",
       "prompt_number": 28,
       "text": [
        "index\n",
        "1998-05-31 22:00:00    12\n",
        "1998-05-31 23:00:00    11\n",
        "1998-06-01 00:00:00    11\n",
        "1998-06-01 01:00:00    11\n",
        "1998-06-01 02:00:00    13\n",
        "Freq: 3600S, Name: requests, dtype: int64"
       ]
      },
      {
       "metadata": {},
       "output_type": "display_data",
       "png": "[encoded data removed]",
       "text": [
        "<matplotlib.figure.Figure at 0x1d45bf690>"
       ]
      }
     ],
     "prompt_number": 28
    },
    {
     "cell_type": "markdown",
     "metadata": {},
     "source": [
      "# Forming the output dataset\n",
      "\n",
      "We export the data to CSV. This data can be used to e.g. run httpmon with wikipedia website requests as the workload pattern."
     ]
    },
    {
     "cell_type": "code",
     "collapsed": false,
     "input": [
      "# the full dataset\n",
      "! mkdir -p {os.path.join(DATASET_LOC, 'soodeh-data')}\n",
      "req.to_csv(os.path.join(DATASET_LOC, 'soodeh-data/worldcup.csv'))\n",
      "! head {os.path.join(DATASET_LOC, 'soodeh-data/worldcup.csv')}"
     ],
     "language": "python",
     "metadata": {},
     "outputs": [
      {
       "output_type": "stream",
       "stream": "stdout",
       "text": [
        "1998-05-31 22:00:00,1914\r\n",
        "1998-05-31 22:01:00,2558\r\n",
        "1998-05-31 22:02:00,2394\r\n",
        "1998-05-31 22:03:00,2052\r\n",
        "1998-05-31 22:04:00,2366\r\n",
        "1998-05-31 22:05:00,2484\r\n",
        "1998-05-31 22:06:00,2654\r\n",
        "1998-05-31 22:07:00,2616\r\n",
        "1998-05-31 22:08:00,3065\r\n",
        "1998-05-31 22:09:00,2488\r\n"
       ]
      }
     ],
     "prompt_number": 30
    },
    {
     "cell_type": "code",
     "collapsed": false,
     "input": [
      "# the scaled dataset\n",
      "req_small.to_csv(os.path.join(DATASET_LOC, 'soodeh-data/worldcup-1000s.csv'))\n",
      "! head {os.path.join(DATASET_LOC,  'soodeh-data/worldcup-1000s.csv')}"
     ],
     "language": "python",
     "metadata": {},
     "outputs": [
      {
       "output_type": "stream",
       "stream": "stdout",
       "text": [
        "1998-05-31 22:00:00,12\r\n",
        "1998-05-31 23:00:00,11\r\n",
        "1998-06-01 00:00:00,11\r\n",
        "1998-06-01 01:00:00,11\r\n",
        "1998-06-01 02:00:00,13\r\n",
        "1998-06-01 03:00:00,13\r\n",
        "1998-06-01 04:00:00,13\r\n",
        "1998-06-01 05:00:00,11\r\n",
        "1998-06-01 06:00:00,12\r\n",
        "1998-06-01 07:00:00,14\r\n"
       ]
      }
     ],
     "prompt_number": 32
    }
   ],
   "metadata": {}
  }
 ]
}